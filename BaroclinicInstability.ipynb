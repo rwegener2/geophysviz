{
 "cells": [
  {
   "cell_type": "markdown",
   "id": "761edaf5",
   "metadata": {},
   "source": [
    "## Baroclinic instability"
   ]
  },
  {
   "cell_type": "markdown",
   "id": "a0314843",
   "metadata": {},
   "source": [
    "### 2 level model"
   ]
  },
  {
   "cell_type": "code",
   "execution_count": 1,
   "id": "417cf8e3",
   "metadata": {},
   "outputs": [],
   "source": [
    "anim_dir = \"animations/\";"
   ]
  },
  {
   "cell_type": "code",
   "execution_count": null,
   "id": "9f6c9bae-6e95-4f1a-8129-c0929bac860f",
   "metadata": {},
   "outputs": [],
   "source": []
  },
  {
   "cell_type": "code",
   "execution_count": 2,
   "id": "e05061d8",
   "metadata": {},
   "outputs": [],
   "source": [
    "using Pkg\n",
    "# pkg\"add Oceananigans, JLD2, Plots\""
   ]
  },
  {
   "cell_type": "code",
   "execution_count": 3,
   "id": "ee2c27b5",
   "metadata": {},
   "outputs": [],
   "source": [
    "using Oceananigans\n",
    "using Oceananigans.Units\n",
    "using Oceananigans.Models.HydrostaticFreeSurfaceModels: ImplicitFreeSurface\n",
    "using Oceananigans.OutputReaders: FieldTimeSeries\n",
    "using Plots, Printf"
   ]
  },
  {
   "cell_type": "code",
   "execution_count": null,
   "id": "7536c6b9-8f61-47ed-98db-4436868dcdbc",
   "metadata": {},
   "outputs": [],
   "source": []
  },
  {
   "cell_type": "code",
   "execution_count": 5,
   "id": "d9ef8c57",
   "metadata": {},
   "outputs": [
    {
     "data": {
      "text/plain": [
       "128×1×2 RectilinearGrid{Float64, Periodic, Flat, Bounded} on CPU with 1×0×1 halo\n",
       "├── Periodic x ∈ [0.0, 1.0e6)  regularly spaced with Δx=7812.5\n",
       "├── Flat y\n",
       "└── Bounded  z ∈ [-400.0, 0.0] regularly spaced with Δz=200.0"
      ]
     },
     "execution_count": 5,
     "metadata": {},
     "output_type": "execute_result"
    }
   ],
   "source": [
    "grid = RectilinearGrid(size = (128, 2),\n",
    "                       x = (0, 1000kilometers), z = (-400meters, 0),\n",
    "                       topology = (Periodic, Flat, Bounded))"
   ]
  },
  {
   "cell_type": "code",
   "execution_count": 6,
   "id": "5cd2450b",
   "metadata": {},
   "outputs": [
    {
     "data": {
      "text/plain": [
       "BetaPlane{Float64}(f₀=0.0001, β=1.5e-11)"
      ]
     },
     "execution_count": 6,
     "metadata": {},
     "output_type": "execute_result"
    }
   ],
   "source": [
    "coriolis = BetaPlane(f₀=1e-4, β=1.5e-11)"
   ]
  },
  {
   "cell_type": "code",
   "execution_count": 10,
   "id": "8dc796c3",
   "metadata": {},
   "outputs": [
    {
     "data": {
      "text/plain": [
       "(α = 0.001, f = 0.0001, N = 0.001, Lz = 400.0)"
      ]
     },
     "execution_count": 10,
     "metadata": {},
     "output_type": "execute_result"
    }
   ],
   "source": [
    "background_parameters = ( α = 10 * coriolis.f₀, # s⁻¹, geostrophic shear\n",
    "                          f = coriolis.f₀,      # s⁻¹, Coriolis parameter\n",
    "                          N = 1e-3,            # s⁻¹, buoyancy frequency\n",
    "                         Lz = grid.Lz)         # m, ocean depth"
   ]
  },
  {
   "cell_type": "code",
   "execution_count": 11,
   "id": "ded2e147",
   "metadata": {},
   "outputs": [
    {
     "data": {
      "text/plain": [
       "BackgroundField{typeof(B), NamedTuple{(:α, :f, :N, :Lz), NTuple{4, Float64}}}\n",
       "├── func: B (generic function with 1 method)\n",
       "└── parameters: (α = 0.001, f = 0.0001, N = 0.001, Lz = 400.0)"
      ]
     },
     "execution_count": 11,
     "metadata": {},
     "output_type": "execute_result"
    }
   ],
   "source": [
    "using Oceananigans.Fields: BackgroundField\n",
    "\n",
    "# Background fields are defined via functions of x, y, z, t, and optional parameters\n",
    "U(x, y, z, t, p) = + p.α * (z + p.Lz)\n",
    "B(x, y, z, t, p) = - p.α * p.f * y + p.N^2 * z\n",
    "\n",
    "U_field = BackgroundField(U, parameters=background_parameters)\n",
    "B_field = BackgroundField(B, parameters=background_parameters)"
   ]
  },
  {
   "cell_type": "code",
   "execution_count": 16,
   "id": "629611cd",
   "metadata": {},
   "outputs": [
    {
     "ename": "LoadError",
     "evalue": "UndefVarError: UVelocityBoundaryConditions not defined",
     "output_type": "error",
     "traceback": [
      "UndefVarError: UVelocityBoundaryConditions not defined",
      "",
      "Stacktrace:",
      " [1] top-level scope",
      "   @ In[16]:9",
      " [2] eval",
      "   @ ./boot.jl:360 [inlined]",
      " [3] include_string(mapexpr::typeof(REPL.softscope), mod::Module, code::String, filename::String)",
      "   @ Base ./loading.jl:1116"
     ]
    }
   ],
   "source": [
    "drag_coefficient = 1e-4\n",
    "\n",
    "@inline drag_u(x, y, t, u, v, cᴰ) = - cᴰ * u * sqrt(u^2 + v^2)\n",
    "@inline drag_v(x, y, t, u, v, cᴰ) = - cᴰ * v * sqrt(u^2 + v^2)\n",
    "\n",
    "drag_bc_u = FluxBoundaryCondition(drag_u, field_dependencies=(:u, :v), parameters=drag_coefficient)\n",
    "drag_bc_v = FluxBoundaryCondition(drag_v, field_dependencies=(:u, :v), parameters=drag_coefficient)\n",
    "\n",
    "u_bcs = UVelocityBoundaryConditions(grid, bottom = drag_bc_u)\n",
    "v_bcs = VVelocityBoundaryConditions(grid, bottom = drag_bc_v)"
   ]
  },
  {
   "cell_type": "code",
   "execution_count": 20,
   "id": "bec7f36a",
   "metadata": {},
   "outputs": [
    {
     "name": "stdout",
     "output_type": "stream",
     "text": [
      "\u001b[32m\u001b[1m      Status\u001b[22m\u001b[39m `~/Documents/GitHub/geophysviz/Project.toml`\n",
      " \u001b[90m [9e8cae18] \u001b[39mOceananigans\n"
     ]
    }
   ],
   "source": [
    "Pkg.status(\"Oceananigans\")"
   ]
  },
  {
   "cell_type": "code",
   "execution_count": null,
   "id": "d9a9306a",
   "metadata": {},
   "outputs": [],
   "source": []
  }
 ],
 "metadata": {
  "kernelspec": {
   "display_name": "Julia 1.6.5",
   "language": "julia",
   "name": "julia-1.6"
  },
  "language_info": {
   "file_extension": ".jl",
   "mimetype": "application/julia",
   "name": "julia",
   "version": "1.6.5"
  }
 },
 "nbformat": 4,
 "nbformat_minor": 5
}
